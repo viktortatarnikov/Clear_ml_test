{
 "cells": [
  {
   "cell_type": "markdown",
   "id": "4905d53d",
   "metadata": {},
   "source": [
    "# CatBoost + ClearML Demo: Titanic Survival Prediction"
   ]
  },
  {
   "cell_type": "markdown",
   "id": "d077b862",
   "metadata": {},
   "source": [
    "Этот проект демонстрирует интеграцию CatBoost с ClearML для отслеживания экспериментов машинного обучения.\n",
    "\n",
    "Что делает этот проект:\n",
    "- Загружает датасет Titanic\n",
    "- Выполняет базовую предобработку данных\n",
    "- Обучает модель CatBoost для предсказания выживания пассажиров\n",
    "- Использует ClearML для логирования экспериментов, метрик и артефактов\n",
    "- Выполняет гиперпараметрическую оптимизацию\n",
    "\n",
    "Технологии:\n",
    "- CatBoost: градиентный бустинг для категориальных признаков\n",
    "- ClearML: платформа для отслеживания ML экспериментов\n",
    "- Pandas/NumPy: обработка данных\n",
    "- Scikit-learn: разделение данных и гиперпараметрическая оптимизация\n",
    "\"\"\""
   ]
  },
  {
   "cell_type": "markdown",
   "id": "fdd04718",
   "metadata": {},
   "source": []
  },
  {
   "cell_type": "markdown",
   "id": "efbe00a6",
   "metadata": {},
   "source": [
    "Настройка окружения ClearML (замените на свои ключи доступа к ClearML серверу)"
   ]
  },
  {
   "cell_type": "code",
   "execution_count": null,
   "id": "7ba1ac63",
   "metadata": {
    "vscode": {
     "languageId": "plaintext"
    }
   },
   "outputs": [],
   "source": [
    "%env CLEARML_WEB_HOST=https://app.clear.ml/\n",
    "%env CLEARML_API_HOST=https://api.clear.ml\n",
    "%env CLEARML_FILES_HOST=https://files.clear.ml\n",
    "%env CLEARML_API_ACCESS_KEY='Ваш ключ доступа'\n",
    "%env CLEARML_API_SECRET_KEY='Ваш секретный ключ'"
   ]
  },
  {
   "cell_type": "markdown",
   "id": "93879082",
   "metadata": {},
   "source": [
    "Импорт требуемых библиотек"
   ]
  },
  {
   "cell_type": "code",
   "execution_count": null,
   "id": "56a3ba2d",
   "metadata": {
    "vscode": {
     "languageId": "plaintext"
    }
   },
   "outputs": [],
   "source": [
    "from clearml import Task, Logger\n",
    "import pandas as pd\n",
    "import numpy as np\n",
    "import seaborn as sns\n",
    "import matplotlib.pyplot as plt\n",
    "from sklearn.model_selection import train_test_split, ParameterSampler\n",
    "from catboost import CatBoostClassifier, Pool\n",
    "from sklearn.metrics import roc_auc_score"
   ]
  },
  {
   "cell_type": "markdown",
   "id": "0cabfabc",
   "metadata": {},
   "source": [
    "Инициализация ClearML задачи"
   ]
  },
  {
   "cell_type": "code",
   "execution_count": null,
   "id": "d9960f42",
   "metadata": {
    "vscode": {
     "languageId": "plaintext"
    }
   },
   "outputs": [],
   "source": [
    "task = Task.init(project_name='OTUS_test',\n",
    "           task_name='CatBoost_notebook_v1',\n",
    "           tags=['Model:CatBoost', 'type:notebook'])"
   ]
  },
  {
   "cell_type": "markdown",
   "id": "d0021368",
   "metadata": {},
   "source": [
    "Загрузка и первичный анализ данных, а также загрузка данных как артефакт в ClearML"
   ]
  },
  {
   "cell_type": "code",
   "execution_count": null,
   "id": "7e4b3269",
   "metadata": {
    "vscode": {
     "languageId": "plaintext"
    }
   },
   "outputs": [],
   "source": [
    "df_raw = pd.read_csv('titanic.csv')\n",
    "\n",
    "task.upload_artifact(name='data.raw', artifact_object=df_raw)\n",
    "\n",
    "df_raw.head()"
   ]
  },
  {
   "cell_type": "markdown",
   "id": "613bf804",
   "metadata": {},
   "source": [
    "Статистическое описание данных"
   ]
  },
  {
   "cell_type": "code",
   "execution_count": null,
   "id": "6bf04600",
   "metadata": {
    "vscode": {
     "languageId": "plaintext"
    }
   },
   "outputs": [],
   "source": [
    "task.upload_artifact(name='eda describe', artifact_object=df_raw.describe())\n",
    "df_raw.describe()"
   ]
  },
  {
   "cell_type": "markdown",
   "id": "23077505",
   "metadata": {},
   "source": [
    "Анализ целевой переменной (Survived)"
   ]
  },
  {
   "cell_type": "code",
   "execution_count": null,
   "id": "95442362",
   "metadata": {
    "vscode": {
     "languageId": "plaintext"
    }
   },
   "outputs": [],
   "source": [
    "task.upload_artifact(name='target_info', artifact_object=df_raw['Survived'].value_counts(normalize=True).reset_index())"
   ]
  },
  {
   "cell_type": "markdown",
   "id": "fd1c2d48",
   "metadata": {},
   "source": [
    "Визуализация распределения"
   ]
  },
  {
   "cell_type": "code",
   "execution_count": null,
   "id": "eebdb97a",
   "metadata": {
    "vscode": {
     "languageId": "plaintext"
    }
   },
   "outputs": [],
   "source": [
    "plt.figure(figsize=(8, 6))\n",
    "sns.countplot(data=df_raw, x='Survived')\n",
    "plt.title('Распределение выживших пассажиров')\n",
    "plt.xlabel('Выжил (1) / Не выжил (0)')\n",
    "plt.ylabel('Количество')\n",
    "plt.show()"
   ]
  },
  {
   "cell_type": "markdown",
   "id": "e99a29b0",
   "metadata": {},
   "source": [
    "Предобработка данных"
   ]
  },
  {
   "cell_type": "code",
   "execution_count": null,
   "id": "e6254644",
   "metadata": {
    "vscode": {
     "languageId": "plaintext"
    }
   },
   "outputs": [],
   "source": [
    "df_preproc = df_raw.drop(columns=['PassengerId', 'Name', 'Ticket'])\n",
    "for col in ['Sex', 'Cabin', 'Embarked']:\n",
    "    df_preproc[col] = df_preproc[col].astype(str)\n",
    "    \n",
    "task.upload_artifact(name='data.preproc', artifact_object=df_preproc)\n"
   ]
  },
  {
   "cell_type": "code",
   "execution_count": null,
   "metadata": {
    "vscode": {
     "languageId": "plaintext"
    }
   },
   "outputs": [],
   "source": [
    "df_raw.columns"
   ]
  },
  {
   "cell_type": "markdown",
   "id": "69515df7",
   "metadata": {},
   "source": [
    "Разделение данных на тренировочную и тестовую выборки, подготовка признаков для модели"
   ]
  },
  {
   "cell_type": "code",
   "execution_count": null,
   "id": "98c33472",
   "metadata": {
    "vscode": {
     "languageId": "plaintext"
    }
   },
   "outputs": [],
   "source": [
    "train, test = train_test_split(df_preproc, test_size=0.33, random_state=42)\n",
    "\n",
    "X_train = train.drop(columns=['Survived']) \n",
    "X_train = X_train[['Sex', 'Cabin', 'Embarked']]\n",
    "y_train = train['Survived']\n",
    "\n",
    "X_test = test.drop(columns=['Survived']) \n",
    "X_test = X_test[['Sex', 'Cabin', 'Embarked']]\n",
    "y_test = test['Survived']"
   ]
  },
  {
   "cell_type": "markdown",
   "id": "d97e25a0",
   "metadata": {},
   "source": [
    "Настройка параметрической сетки"
   ]
  },
  {
   "cell_type": "code",
   "execution_count": null,
   "id": "53c299b9",
   "metadata": {
    "vscode": {
     "languageId": "plaintext"
    }
   },
   "outputs": [],
   "source": [
    "param_grid = {\n",
    "    'depth' : [4, 5, 6, 7, 8, 10, 16],\n",
    "    'learning_rate': [0.1, 0.05, 0.01, 0.0005, 0.0001],\n",
    "    'iterations': [30, 50, 100, 150, 200]\n",
    "}\n",
    "\n",
    "# На этом этапе также происходит инициализация \n",
    "# логгера для записи метрик\n",
    "log = Logger.current_logger()\n",
    "\n",
    "best_score = 0 \n",
    "best_model = None\n",
    "i = 0"
   ]
  },
  {
   "cell_type": "markdown",
   "id": "bb887a4b",
   "metadata": {},
   "source": [
    "Обучение модели и поиск лучших гиперпараметров"
   ]
  },
  {
   "cell_type": "code",
   "execution_count": null,
   "id": "e652c70e",
   "metadata": {
    "vscode": {
     "languageId": "plaintext"
    }
   },
   "outputs": [],
   "source": [
    "for param in ParameterSampler(param_grid, n_iter=4, random_state=42):\n",
    "    print(param)\n",
    "    parametrs_dict = Task.current_task().connect(param)\n",
    "    print(i+1)\n",
    "    \n",
    "    model = CatBoostClassifier(**param, silent=True)\n",
    "    model.fit(X_train, y_train, cat_features=['Sex', 'Cabin', 'Embarked'])\n",
    "    \n",
    "    #Оценка модели и обучение \n",
    "    train_scores = model.eval_metrics(\n",
    "    data=Pool(X_train, y_train, cat_features=['Sex', 'Cabin', 'Embarked']),\n",
    "    metrics=['Logloss', 'AUC'])\n",
    "    train_logloss = round(train_scores['Logloss'][-1], 4)\n",
    "    train_roc_auc = round(train_scores['AUC'][-1]*100, 4)\n",
    "    \n",
    "    test_scores = model.eval_metrics(\n",
    "    data=Pool(X_test, y_test, cat_features=['Sex', 'Cabin', 'Embarked']),\n",
    "    metrics=['Logloss', 'AUC'])\n",
    "    test_logloss = round(test_scores['Logloss'][-1], 4)\n",
    "    test_roc_auc = round(test_scores['AUC'][-1]*100, 4)\n",
    "    \n",
    "    # Сохраняем лучшую модель\n",
    "    if test_roc_auc > best_score:\n",
    "        best_score = test_roc_auc\n",
    "        best_model = model\n",
    "        \n",
    "        # Логируем метрики в ClearML\n",
    "        log.report_scalar('Logloss', 'Test', iteration=i, value=test_logloss)\n",
    "        log.report_scalar('Logloss', 'Train', iteration=i, value=train_logloss)\n",
    "        \n",
    "        log.report_scalar('ROC AUC', 'Test', iteration=i, value=test_roc_auc)\n",
    "        log.report_scalar('ROC AUC', 'Train', iteration=i, value=train_roc_auc)\n",
    "        \n",
    "        i+=1"
   ]
  },
  {
   "cell_type": "markdown",
   "id": "b04dc8b7",
   "metadata": {},
   "source": [
    "Логируем финальные результаты в ClearML"
   ]
  },
  {
   "cell_type": "code",
   "execution_count": null,
   "metadata": {
    "vscode": {
     "languageId": "plaintext"
    }
   },
   "outputs": [],
   "source": [
    "log.report_single_value(name='Best ROC AUC', value=test_roc_auc)\n",
    "log.report_single_value(name='Best Logloss', value=test_logloss)\n",
    "log.report_single_value(name='Train Rows', value=X_train.shape[0])\n",
    "log.report_single_value(name='Test Rows', value=X_test.shape[0])\n",
    "log.report_single_value(name='Columns', value=X_train.shape[1])"
   ]
  },
  {
   "cell_type": "markdown",
   "id": "a9088099",
   "metadata": {},
   "source": [
    "Сохранение лучшей модели"
   ]
  },
  {
   "cell_type": "code",
   "execution_count": null,
   "id": "f094430c",
   "metadata": {
    "vscode": {
     "languageId": "plaintext"
    }
   },
   "outputs": [],
   "source": [
    "best_model_name = 'your_best_model.cbn'\n",
    "best_model.save_model(best_model_name)\n",
    "task.upload_artifact(name=best_model_name, artifact_object=best_model)"
   ]
  },
  {
   "cell_type": "markdown",
   "id": "1dd99493",
   "metadata": {},
   "source": [
    "Завершение эксперимента в ClearMl"
   ]
  },
  {
   "cell_type": "code",
   "execution_count": null,
   "id": "58a5362c",
   "metadata": {
    "vscode": {
     "languageId": "plaintext"
    }
   },
   "outputs": [],
   "source": [
    "task.close()"
   ]
  }
 ],
 "metadata": {
  "language_info": {
   "name": "python"
  }
 },
 "nbformat": 4,
 "nbformat_minor": 5
}
