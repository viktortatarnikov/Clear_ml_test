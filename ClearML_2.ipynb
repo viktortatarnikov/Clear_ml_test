{
 "cells": [
  {
   "cell_type": "code",
   "execution_count": 1,
   "id": "19135ad7",
   "metadata": {},
   "outputs": [
    {
     "data": {
      "text/plain": [
       "'для теста датасет будет использоваться обычный титаник\\nD:\\\\Py_things\\\\PyProjects\\titanik_train_Project\\titanic.csv\\n'"
      ]
     },
     "execution_count": 1,
     "metadata": {},
     "output_type": "execute_result"
    }
   ],
   "source": [
    "\"\"\"для теста датасет будет использоваться обычный титаник\n",
    "D:\\Py_things\\PyProjects\\titanik_train_Project\\titanic.csv\n",
    "\"\"\""
   ]
  },
  {
   "cell_type": "code",
   "execution_count": 2,
   "id": "4f18c0a4",
   "metadata": {},
   "outputs": [
    {
     "name": "stdout",
     "output_type": "stream",
     "text": [
      "env: CLEARML_WEB_HOST=http://clearml.spb.rdi-kvant.ru:8080\n",
      "env: CLEARML_API_HOST=http://clearml.spb.rdi-kvant.ru:8008\n",
      "env: CLEARML_FILES_HOST=http://clearml.spb.rdi-kvant.ru:8081\n",
      "env: CLEARML_API_ACCESS_KEY=W3W1A5F3FC2ZLJC95HAM\n",
      "env: CLEARML_API_SECRET_KEY=0ratpE3DCGUDMwFiuzE3pOcuwKIKiihnfG2vgchVFteE8bX7Al\n"
     ]
    }
   ],
   "source": [
    "%env CLEARML_WEB_HOST=http://clearml.spb.rdi-kvant.ru:8080\n",
    "%env CLEARML_API_HOST=http://clearml.spb.rdi-kvant.ru:8008\n",
    "%env CLEARML_FILES_HOST=http://clearml.spb.rdi-kvant.ru:8081\n",
    "%env CLEARML_API_ACCESS_KEY=W3W1A5F3FC2ZLJC95HAM\n",
    "%env CLEARML_API_SECRET_KEY=0ratpE3DCGUDMwFiuzE3pOcuwKIKiihnfG2vgchVFteE8bX7Al"
   ]
  },
  {
   "cell_type": "code",
   "execution_count": 3,
   "id": "dc4d31e0",
   "metadata": {},
   "outputs": [],
   "source": [
    "from clearml import Task, Logger\n",
    "import pandas as pd\n",
    "import numpy as np\n",
    "import seaborn as sns\n",
    "import matplotlib.pyplot as plt\n",
    "from sklearn.model_selection import train_test_split, ParameterSampler\n",
    "from catboost import CatBoostClassifier, Pool\n",
    "from sklearn.metrics import roc_auc_score"
   ]
  },
  {
   "cell_type": "code",
   "execution_count": 4,
   "id": "62b111b1",
   "metadata": {},
   "outputs": [
    {
     "name": "stdout",
     "output_type": "stream",
     "text": [
      "ClearML Task: created new task id=c793a77bfacf4f10b93f7ffc1e88d7a5\n",
      "ClearML results page: http://clearml.spb.rdi-kvant.ru:8080/projects/2c29146474784712a23a87a4be54b4a4/experiments/c793a77bfacf4f10b93f7ffc1e88d7a5/output/log\n"
     ]
    }
   ],
   "source": [
    "task = Task.init(project_name='OTUS_test',\n",
    "           task_name='CatBoost_notebook_v1',\n",
    "           tags=['Model:CatBoost', 'type:notebook'])"
   ]
  },
  {
   "cell_type": "code",
   "execution_count": 5,
   "id": "9c51dd9a",
   "metadata": {},
   "outputs": [
    {
     "data": {
      "text/html": [
       "<div>\n",
       "<style scoped>\n",
       "    .dataframe tbody tr th:only-of-type {\n",
       "        vertical-align: middle;\n",
       "    }\n",
       "\n",
       "    .dataframe tbody tr th {\n",
       "        vertical-align: top;\n",
       "    }\n",
       "\n",
       "    .dataframe thead th {\n",
       "        text-align: right;\n",
       "    }\n",
       "</style>\n",
       "<table border=\"1\" class=\"dataframe\">\n",
       "  <thead>\n",
       "    <tr style=\"text-align: right;\">\n",
       "      <th></th>\n",
       "      <th>PassengerId</th>\n",
       "      <th>Survived</th>\n",
       "      <th>Pclass</th>\n",
       "      <th>Name</th>\n",
       "      <th>Sex</th>\n",
       "      <th>Age</th>\n",
       "      <th>SibSp</th>\n",
       "      <th>Parch</th>\n",
       "      <th>Ticket</th>\n",
       "      <th>Fare</th>\n",
       "      <th>Cabin</th>\n",
       "      <th>Embarked</th>\n",
       "    </tr>\n",
       "  </thead>\n",
       "  <tbody>\n",
       "    <tr>\n",
       "      <th>0</th>\n",
       "      <td>1</td>\n",
       "      <td>0</td>\n",
       "      <td>3</td>\n",
       "      <td>Braund, Mr. Owen Harris</td>\n",
       "      <td>male</td>\n",
       "      <td>22.0</td>\n",
       "      <td>1</td>\n",
       "      <td>0</td>\n",
       "      <td>A/5 21171</td>\n",
       "      <td>7.2500</td>\n",
       "      <td>NaN</td>\n",
       "      <td>S</td>\n",
       "    </tr>\n",
       "    <tr>\n",
       "      <th>1</th>\n",
       "      <td>2</td>\n",
       "      <td>1</td>\n",
       "      <td>1</td>\n",
       "      <td>Cumings, Mrs. John Bradley (Florence Briggs Th...</td>\n",
       "      <td>female</td>\n",
       "      <td>38.0</td>\n",
       "      <td>1</td>\n",
       "      <td>0</td>\n",
       "      <td>PC 17599</td>\n",
       "      <td>71.2833</td>\n",
       "      <td>C85</td>\n",
       "      <td>C</td>\n",
       "    </tr>\n",
       "    <tr>\n",
       "      <th>2</th>\n",
       "      <td>3</td>\n",
       "      <td>1</td>\n",
       "      <td>3</td>\n",
       "      <td>Heikkinen, Miss. Laina</td>\n",
       "      <td>female</td>\n",
       "      <td>26.0</td>\n",
       "      <td>0</td>\n",
       "      <td>0</td>\n",
       "      <td>STON/O2. 3101282</td>\n",
       "      <td>7.9250</td>\n",
       "      <td>NaN</td>\n",
       "      <td>S</td>\n",
       "    </tr>\n",
       "    <tr>\n",
       "      <th>3</th>\n",
       "      <td>4</td>\n",
       "      <td>1</td>\n",
       "      <td>1</td>\n",
       "      <td>Futrelle, Mrs. Jacques Heath (Lily May Peel)</td>\n",
       "      <td>female</td>\n",
       "      <td>35.0</td>\n",
       "      <td>1</td>\n",
       "      <td>0</td>\n",
       "      <td>113803</td>\n",
       "      <td>53.1000</td>\n",
       "      <td>C123</td>\n",
       "      <td>S</td>\n",
       "    </tr>\n",
       "    <tr>\n",
       "      <th>4</th>\n",
       "      <td>5</td>\n",
       "      <td>0</td>\n",
       "      <td>3</td>\n",
       "      <td>Allen, Mr. William Henry</td>\n",
       "      <td>male</td>\n",
       "      <td>35.0</td>\n",
       "      <td>0</td>\n",
       "      <td>0</td>\n",
       "      <td>373450</td>\n",
       "      <td>8.0500</td>\n",
       "      <td>NaN</td>\n",
       "      <td>S</td>\n",
       "    </tr>\n",
       "  </tbody>\n",
       "</table>\n",
       "</div>"
      ],
      "text/plain": [
       "   PassengerId  Survived  Pclass  \\\n",
       "0            1         0       3   \n",
       "1            2         1       1   \n",
       "2            3         1       3   \n",
       "3            4         1       1   \n",
       "4            5         0       3   \n",
       "\n",
       "                                                Name     Sex   Age  SibSp  \\\n",
       "0                            Braund, Mr. Owen Harris    male  22.0      1   \n",
       "1  Cumings, Mrs. John Bradley (Florence Briggs Th...  female  38.0      1   \n",
       "2                             Heikkinen, Miss. Laina  female  26.0      0   \n",
       "3       Futrelle, Mrs. Jacques Heath (Lily May Peel)  female  35.0      1   \n",
       "4                           Allen, Mr. William Henry    male  35.0      0   \n",
       "\n",
       "   Parch            Ticket     Fare Cabin Embarked  \n",
       "0      0         A/5 21171   7.2500   NaN        S  \n",
       "1      0          PC 17599  71.2833   C85        C  \n",
       "2      0  STON/O2. 3101282   7.9250   NaN        S  \n",
       "3      0            113803  53.1000  C123        S  \n",
       "4      0            373450   8.0500   NaN        S  "
      ]
     },
     "execution_count": 5,
     "metadata": {},
     "output_type": "execute_result"
    }
   ],
   "source": [
    "df_raw = pd.read_csv('D:\\\\Py_things\\\\PyProjects\\\\titanik_train_Project\\\\titanic.csv')\n",
    "\n",
    "task.upload_artifact(name='data.raw', artifact_object=df_raw)\n",
    "\n",
    "df_raw.head()"
   ]
  },
  {
   "cell_type": "code",
   "execution_count": 6,
   "id": "0b33cef9",
   "metadata": {},
   "outputs": [
    {
     "data": {
      "text/html": [
       "<div>\n",
       "<style scoped>\n",
       "    .dataframe tbody tr th:only-of-type {\n",
       "        vertical-align: middle;\n",
       "    }\n",
       "\n",
       "    .dataframe tbody tr th {\n",
       "        vertical-align: top;\n",
       "    }\n",
       "\n",
       "    .dataframe thead th {\n",
       "        text-align: right;\n",
       "    }\n",
       "</style>\n",
       "<table border=\"1\" class=\"dataframe\">\n",
       "  <thead>\n",
       "    <tr style=\"text-align: right;\">\n",
       "      <th></th>\n",
       "      <th>PassengerId</th>\n",
       "      <th>Survived</th>\n",
       "      <th>Pclass</th>\n",
       "      <th>Age</th>\n",
       "      <th>SibSp</th>\n",
       "      <th>Parch</th>\n",
       "      <th>Fare</th>\n",
       "    </tr>\n",
       "  </thead>\n",
       "  <tbody>\n",
       "    <tr>\n",
       "      <th>count</th>\n",
       "      <td>891.000000</td>\n",
       "      <td>891.000000</td>\n",
       "      <td>891.000000</td>\n",
       "      <td>714.000000</td>\n",
       "      <td>891.000000</td>\n",
       "      <td>891.000000</td>\n",
       "      <td>891.000000</td>\n",
       "    </tr>\n",
       "    <tr>\n",
       "      <th>mean</th>\n",
       "      <td>446.000000</td>\n",
       "      <td>0.383838</td>\n",
       "      <td>2.308642</td>\n",
       "      <td>29.699118</td>\n",
       "      <td>0.523008</td>\n",
       "      <td>0.381594</td>\n",
       "      <td>32.204208</td>\n",
       "    </tr>\n",
       "    <tr>\n",
       "      <th>std</th>\n",
       "      <td>257.353842</td>\n",
       "      <td>0.486592</td>\n",
       "      <td>0.836071</td>\n",
       "      <td>14.526497</td>\n",
       "      <td>1.102743</td>\n",
       "      <td>0.806057</td>\n",
       "      <td>49.693429</td>\n",
       "    </tr>\n",
       "    <tr>\n",
       "      <th>min</th>\n",
       "      <td>1.000000</td>\n",
       "      <td>0.000000</td>\n",
       "      <td>1.000000</td>\n",
       "      <td>0.420000</td>\n",
       "      <td>0.000000</td>\n",
       "      <td>0.000000</td>\n",
       "      <td>0.000000</td>\n",
       "    </tr>\n",
       "    <tr>\n",
       "      <th>25%</th>\n",
       "      <td>223.500000</td>\n",
       "      <td>0.000000</td>\n",
       "      <td>2.000000</td>\n",
       "      <td>20.125000</td>\n",
       "      <td>0.000000</td>\n",
       "      <td>0.000000</td>\n",
       "      <td>7.910400</td>\n",
       "    </tr>\n",
       "    <tr>\n",
       "      <th>50%</th>\n",
       "      <td>446.000000</td>\n",
       "      <td>0.000000</td>\n",
       "      <td>3.000000</td>\n",
       "      <td>28.000000</td>\n",
       "      <td>0.000000</td>\n",
       "      <td>0.000000</td>\n",
       "      <td>14.454200</td>\n",
       "    </tr>\n",
       "    <tr>\n",
       "      <th>75%</th>\n",
       "      <td>668.500000</td>\n",
       "      <td>1.000000</td>\n",
       "      <td>3.000000</td>\n",
       "      <td>38.000000</td>\n",
       "      <td>1.000000</td>\n",
       "      <td>0.000000</td>\n",
       "      <td>31.000000</td>\n",
       "    </tr>\n",
       "    <tr>\n",
       "      <th>max</th>\n",
       "      <td>891.000000</td>\n",
       "      <td>1.000000</td>\n",
       "      <td>3.000000</td>\n",
       "      <td>80.000000</td>\n",
       "      <td>8.000000</td>\n",
       "      <td>6.000000</td>\n",
       "      <td>512.329200</td>\n",
       "    </tr>\n",
       "  </tbody>\n",
       "</table>\n",
       "</div>"
      ],
      "text/plain": [
       "       PassengerId    Survived      Pclass         Age       SibSp  \\\n",
       "count   891.000000  891.000000  891.000000  714.000000  891.000000   \n",
       "mean    446.000000    0.383838    2.308642   29.699118    0.523008   \n",
       "std     257.353842    0.486592    0.836071   14.526497    1.102743   \n",
       "min       1.000000    0.000000    1.000000    0.420000    0.000000   \n",
       "25%     223.500000    0.000000    2.000000   20.125000    0.000000   \n",
       "50%     446.000000    0.000000    3.000000   28.000000    0.000000   \n",
       "75%     668.500000    1.000000    3.000000   38.000000    1.000000   \n",
       "max     891.000000    1.000000    3.000000   80.000000    8.000000   \n",
       "\n",
       "            Parch        Fare  \n",
       "count  891.000000  891.000000  \n",
       "mean     0.381594   32.204208  \n",
       "std      0.806057   49.693429  \n",
       "min      0.000000    0.000000  \n",
       "25%      0.000000    7.910400  \n",
       "50%      0.000000   14.454200  \n",
       "75%      0.000000   31.000000  \n",
       "max      6.000000  512.329200  "
      ]
     },
     "execution_count": 6,
     "metadata": {},
     "output_type": "execute_result"
    }
   ],
   "source": [
    "task.upload_artifact(name='eda describe', artifact_object=df_raw.describe())\n",
    "df_raw.describe()"
   ]
  },
  {
   "cell_type": "code",
   "execution_count": 7,
   "id": "55a667cc",
   "metadata": {},
   "outputs": [
    {
     "data": {
      "text/plain": [
       "True"
      ]
     },
     "execution_count": 7,
     "metadata": {},
     "output_type": "execute_result"
    }
   ],
   "source": [
    "task.upload_artifact(name='target_info', artifact_object=df_raw['Survived'].value_counts(normalize=True).reset_index())"
   ]
  },
  {
   "cell_type": "code",
   "execution_count": 8,
   "id": "d9bb4db4",
   "metadata": {},
   "outputs": [
    {
     "data": {
      "text/plain": [
       "True"
      ]
     },
     "execution_count": 8,
     "metadata": {},
     "output_type": "execute_result"
    }
   ],
   "source": [
    "df_preproc = df_raw.drop(columns=['PassengerId', 'Name', 'Ticket'])\n",
    "for col in ['Sex', 'Cabin', 'Embarked']:\n",
    "    df_preproc[col] = df_preproc[col].astype(str)\n",
    "    \n",
    "task.upload_artifact(name='data.preproc', artifact_object=df_preproc)"
   ]
  },
  {
   "cell_type": "code",
   "execution_count": 9,
   "id": "ce7a4112",
   "metadata": {},
   "outputs": [
    {
     "data": {
      "text/plain": [
       "Index(['PassengerId', 'Survived', 'Pclass', 'Name', 'Sex', 'Age', 'SibSp',\n",
       "       'Parch', 'Ticket', 'Fare', 'Cabin', 'Embarked'],\n",
       "      dtype='object')"
      ]
     },
     "execution_count": 9,
     "metadata": {},
     "output_type": "execute_result"
    }
   ],
   "source": [
    "df_raw.columns"
   ]
  },
  {
   "cell_type": "code",
   "execution_count": 10,
   "id": "dc4af4bc",
   "metadata": {},
   "outputs": [
    {
     "data": {
      "text/plain": [
       "True"
      ]
     },
     "execution_count": 10,
     "metadata": {},
     "output_type": "execute_result"
    }
   ],
   "source": [
    "train, test = train_test_split(df_preproc, test_size=0.33, random_state=42)\n",
    "\n",
    "task.upload_artifact(name='data.train', artifact_object=train)\n",
    "task.upload_artifact(name='data.test', artifact_object=test)"
   ]
  },
  {
   "cell_type": "code",
   "execution_count": null,
   "id": "23ce5e48",
   "metadata": {},
   "outputs": [],
   "source": []
  },
  {
   "cell_type": "code",
   "execution_count": 11,
   "id": "1be8168a",
   "metadata": {},
   "outputs": [],
   "source": [
    "X_train = train.drop(columns=['Survived']) \n",
    "X_train = X_train[['Sex', 'Cabin', 'Embarked']]\n",
    "y_train = train['Survived']\n",
    "\n",
    "X_test = test.drop(columns=['Survived']) \n",
    "X_test = X_test[['Sex', 'Cabin', 'Embarked']]\n",
    "y_test = test['Survived']"
   ]
  },
  {
   "cell_type": "code",
   "execution_count": 12,
   "id": "a1babddd",
   "metadata": {},
   "outputs": [],
   "source": [
    "param_grid = {\n",
    "    'depth' : [1, 2, 16],\n",
    "    'learning_rate': [0.1, 0.0001],\n",
    "    'iterations': [10, 20, 30]\n",
    "}\n",
    "\n",
    "log = Logger.current_logger()\n",
    "\n",
    "best_score = 0 \n",
    "best_model = None\n",
    "i = 0"
   ]
  },
  {
   "cell_type": "code",
   "execution_count": 13,
   "id": "a930810d",
   "metadata": {},
   "outputs": [
    {
     "name": "stdout",
     "output_type": "stream",
     "text": [
      "{'learning_rate': 0.1, 'iterations': 10, 'depth': 1}\n",
      "1\n",
      "{'learning_rate': 0.0001, 'iterations': 10, 'depth': 1}\n",
      "ClearML Monitor: GPU monitoring failed getting GPU reading, switching off GPU monitoring\n",
      "2\n",
      "{'learning_rate': 0.1, 'iterations': 20, 'depth': 2}\n",
      "2\n",
      "{'learning_rate': 0.0001, 'iterations': 30, 'depth': 1}\n",
      "3\n",
      "2024-02-29 17:19:51,854 - clearml.Task - INFO - Storing jupyter notebook directly as code\n"
     ]
    }
   ],
   "source": [
    "for param in ParameterSampler(param_grid, n_iter=4, random_state=42):\n",
    "    print(param)\n",
    "    parametrs_dict = Task.current_task().connect(param)\n",
    "    print(i+1)\n",
    "    \n",
    "    model = CatBoostClassifier(**param, silent=True)\n",
    "    model.fit(X_test, y_test, cat_features=['Sex', 'Cabin', 'Embarked'])\n",
    "    \n",
    "    #Оценка модели и обучение \n",
    "    test_scores = model.eval_metrics(\n",
    "    data=Pool(X_test, y_test, cat_features=['Sex', 'Cabin', 'Embarked']),\n",
    "    metrics=['Logloss', 'AUC'])\n",
    "    test_logloss = round(test_scores['Logloss'][-1], 4)\n",
    "    test_roc_auc = round(test_scores['AUC'][-1]*100, 4)\n",
    "    \n",
    "    train_scores = model.eval_metrics(\n",
    "    data=Pool(X_train, y_train, cat_features=['Sex', 'Cabin', 'Embarked']),\n",
    "    metrics=['Logloss', 'AUC'])\n",
    "    train_logloss = round(train_scores['Logloss'][-1], 4)\n",
    "    train_roc_auc = round(train_scores['AUC'][-1]*100, 4)\n",
    "    \n",
    "    \n",
    "    if test_roc_auc > best_score:\n",
    "        best_score = test_roc_auc\n",
    "        best_model = model\n",
    "        \n",
    "        log.report_scalar('Logloss', 'Test', iteration=i, value=test_logloss)\n",
    "        log.report_scalar('Logloss', 'Train', iteration=i, value=train_logloss)\n",
    "        \n",
    "        log.report_scalar('ROC AUC', 'Test', iteration=i, value=test_roc_auc)\n",
    "        log.report_scalar('ROC AUC', 'Train', iteration=i, value=train_roc_auc)\n",
    "        \n",
    "        i+=1"
   ]
  },
  {
   "cell_type": "code",
   "execution_count": 14,
   "id": "fc6b968f",
   "metadata": {},
   "outputs": [],
   "source": [
    "log.report_single_value(name='Best ROC AUC', value=test_roc_auc)\n",
    "log.report_single_value(name='Best Logloss', value=test_logloss)\n",
    "log.report_single_value(name='Train Rows', value=X_train.shape[0])\n",
    "log.report_single_value(name='Test Rows', value=X_test.shape[0])\n",
    "log.report_single_value(name='Columns', value=X_train.shape[1])"
   ]
  },
  {
   "cell_type": "code",
   "execution_count": 16,
   "id": "999d2171",
   "metadata": {},
   "outputs": [
    {
     "data": {
      "text/plain": [
       "True"
      ]
     },
     "execution_count": 16,
     "metadata": {},
     "output_type": "execute_result"
    }
   ],
   "source": [
    "best_model_name = 'webinar_madel_v2.cbn'\n",
    "best_model.save_model(best_model_name)\n",
    "task.upload_artifact(name=best_model_name, artifact_object=best_model)"
   ]
  },
  {
   "cell_type": "code",
   "execution_count": 17,
   "id": "1165183d",
   "metadata": {},
   "outputs": [],
   "source": [
    "task.close()"
   ]
  },
  {
   "cell_type": "code",
   "execution_count": null,
   "id": "8e1b43ae",
   "metadata": {},
   "outputs": [],
   "source": []
  }
 ],
 "metadata": {
  "kernelspec": {
   "display_name": "Python 3 (ipykernel)",
   "language": "python",
   "name": "python3"
  },
  "language_info": {
   "codemirror_mode": {
    "name": "ipython",
    "version": 3
   },
   "file_extension": ".py",
   "mimetype": "text/x-python",
   "name": "python",
   "nbconvert_exporter": "python",
   "pygments_lexer": "ipython3",
   "version": "3.11.4"
  }
 },
 "nbformat": 4,
 "nbformat_minor": 5
}
